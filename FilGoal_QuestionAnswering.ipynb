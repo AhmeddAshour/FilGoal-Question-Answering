{
  "nbformat": 4,
  "nbformat_minor": 0,
  "metadata": {
    "colab": {
      "provenance": [],
      "gpuType": "T4"
    },
    "kernelspec": {
      "name": "python3",
      "display_name": "Python 3"
    },
    "language_info": {
      "name": "python"
    },
    "accelerator": "GPU"
  },
  "cells": [
    {
      "cell_type": "markdown",
      "source": [
        "#Web-Scraping"
      ],
      "metadata": {
        "id": "TL4Z6zzj3CgK"
      }
    },
    {
      "cell_type": "code",
      "source": [
        "!pip install requests beautifulsoup4"
      ],
      "metadata": {
        "colab": {
          "base_uri": "https://localhost:8080/"
        },
        "id": "DrQvOLznYBe7",
        "outputId": "c56007df-10d2-4a2b-ed01-257049a64878"
      },
      "execution_count": 55,
      "outputs": [
        {
          "output_type": "stream",
          "name": "stdout",
          "text": [
            "Requirement already satisfied: requests in /usr/local/lib/python3.11/dist-packages (2.32.3)\n",
            "Requirement already satisfied: beautifulsoup4 in /usr/local/lib/python3.11/dist-packages (4.13.4)\n",
            "Requirement already satisfied: charset-normalizer<4,>=2 in /usr/local/lib/python3.11/dist-packages (from requests) (3.4.1)\n",
            "Requirement already satisfied: idna<4,>=2.5 in /usr/local/lib/python3.11/dist-packages (from requests) (3.10)\n",
            "Requirement already satisfied: urllib3<3,>=1.21.1 in /usr/local/lib/python3.11/dist-packages (from requests) (2.3.0)\n",
            "Requirement already satisfied: certifi>=2017.4.17 in /usr/local/lib/python3.11/dist-packages (from requests) (2025.1.31)\n",
            "Requirement already satisfied: soupsieve>1.2 in /usr/local/lib/python3.11/dist-packages (from beautifulsoup4) (2.6)\n",
            "Requirement already satisfied: typing-extensions>=4.0.0 in /usr/local/lib/python3.11/dist-packages (from beautifulsoup4) (4.13.2)\n"
          ]
        }
      ]
    },
    {
      "cell_type": "markdown",
      "source": [
        "##Libraries Necessary"
      ],
      "metadata": {
        "id": "52mLZ7Sx3ug-"
      }
    },
    {
      "cell_type": "code",
      "source": [
        "import requests\n",
        "from bs4 import BeautifulSoup\n",
        "import re\n",
        "import time\n",
        "import pandas as pd"
      ],
      "metadata": {
        "id": "f0sLWTeuoeHn"
      },
      "execution_count": 1,
      "outputs": []
    },
    {
      "cell_type": "code",
      "source": [
        "headers = {\n",
        "    'User-Agent': 'Mozilla/5.0'\n",
        "}"
      ],
      "metadata": {
        "id": "7m-E2JnOdWaf"
      },
      "execution_count": 8,
      "outputs": []
    },
    {
      "cell_type": "code",
      "source": [
        "# Step 1: Get links from homepage + section pages\n",
        "base_url = 'https://www.filgoal.com'\n",
        "start_url = f'{base_url}/'\n",
        "response = requests.get(start_url, headers=headers)\n",
        "soup = BeautifulSoup(response.content, 'html.parser')"
      ],
      "metadata": {
        "id": "19DjWrHNhN9N"
      },
      "execution_count": 9,
      "outputs": []
    },
    {
      "cell_type": "code",
      "source": [
        "# Extract article links from homepage\n",
        "article_links = set()\n",
        "for a_tag in soup.find_all('a', href=True):\n",
        "    href = a_tag['href']\n",
        "    if re.match(r'^/articles/\\d+', href):\n",
        "        article_links.add(base_url + href)"
      ],
      "metadata": {
        "id": "hyd5V3FUhN6u"
      },
      "execution_count": 10,
      "outputs": []
    },
    {
      "cell_type": "code",
      "source": [
        "# Loop to generate the section URLs for the first 500 pages\n",
        "\n",
        "for page_number in range(500):  # Loop from page 0 to 499\n",
        "    sec_url = f'{base_url}/articles?page={page_number}'\n",
        "\n",
        "    try:\n",
        "        res = requests.get(sec_url, headers=headers)\n",
        "        soup = BeautifulSoup(res.content, 'html.parser')\n",
        "\n",
        "        # Extract article links from the current page\n",
        "        for a_tag in soup.find_all('a', href=True):\n",
        "            href = a_tag['href']\n",
        "            if re.match(r'^/articles/\\d+', href):  # Check if it's an article link\n",
        "                article_links.add(base_url + href)\n",
        "\n",
        "        print(f\"Scraped page {page_number + 1} / 10\")\n",
        "        time.sleep(1)  # Add delay between requests to avoid hitting the server too fast\n",
        "\n",
        "    except Exception as e:\n",
        "        print(f\"Error scraping page {page_number + 1}: {e}\")\n",
        "        time.sleep(2)  # Longer delay in case of failure to avoid further issues"
      ],
      "metadata": {
        "colab": {
          "base_uri": "https://localhost:8080/"
        },
        "id": "SMnI8b7Bh2Qu",
        "outputId": "2153d1e7-2ab3-473d-9102-0f8c7ec73993"
      },
      "execution_count": 16,
      "outputs": [
        {
          "output_type": "stream",
          "name": "stdout",
          "text": [
            "Scraped page 1 / 10\n",
            "Scraped page 2 / 10\n",
            "Scraped page 3 / 10\n",
            "Scraped page 4 / 10\n",
            "Scraped page 5 / 10\n",
            "Scraped page 6 / 10\n",
            "Scraped page 7 / 10\n",
            "Scraped page 8 / 10\n",
            "Scraped page 9 / 10\n",
            "Scraped page 10 / 10\n"
          ]
        }
      ]
    },
    {
      "cell_type": "markdown",
      "source": [
        "##Scraping Each Article"
      ],
      "metadata": {
        "id": "xoV1f0813m4J"
      }
    },
    {
      "cell_type": "code",
      "source": [
        "# Scrape each article\n",
        "articles = []\n",
        "for i, link in enumerate(article_links):  # Scraping all article links\n",
        "    try:\n",
        "        res = requests.get(link, headers=headers)\n",
        "        page = BeautifulSoup(res.content, 'html.parser')\n",
        "\n",
        "        # Title\n",
        "        title_tag = page.find('h1')\n",
        "        title = title_tag.get_text(strip=True) if title_tag else \"No title\"\n",
        "\n",
        "        # Body\n",
        "        body_text = \"\"\n",
        "        content_div = page.find('div', class_=re.compile(r'(articleBody|article-content|mainContent|newsDetails|story-content)'))\n",
        "        if content_div:\n",
        "            paragraphs = content_div.find_all('p')\n",
        "        else:\n",
        "            paragraphs = page.find_all('p')\n",
        "\n",
        "        body_text = '\\n'.join([p.get_text(strip=True) for p in paragraphs if len(p.get_text(strip=True)) > 50])\n",
        "\n",
        "        if body_text:\n",
        "            articles.append({\n",
        "                'title': title,\n",
        "                'body': body_text.strip()\n",
        "            })\n",
        "\n",
        "        print(f\"Scraped ({i+1}/{len(article_links)}): {title}\")\n",
        "        time.sleep(1)\n",
        "\n",
        "    except Exception as e:\n",
        "        print(f\"Error on {link}: {e}\")"
      ],
      "metadata": {
        "colab": {
          "base_uri": "https://localhost:8080/"
        },
        "id": "LOkaBsLmhN3U",
        "outputId": "b038de53-9245-4473-a23c-a21d4798a108"
      },
      "execution_count": 20,
      "outputs": [
        {
          "output_type": "stream",
          "name": "stdout",
          "text": [
            "Scraped (1/34): سعودي في الجول\n",
            "Scraped (2/34): الدوري المصري\n",
            "Scraped (3/34): الكرة الأوروبية\n",
            "Scraped (4/34): ميركاتو\n",
            "Scraped (5/34): كرة يد\n",
            "Scraped (6/34): كرة يد\n",
            "Scraped (7/34): الكرة المصرية\n",
            "Scraped (8/34): الدوري المصري\n",
            "Scraped (9/34): الكرة المصرية\n",
            "Scraped (10/34): الكرة الإفريقية\n",
            "Scraped (11/34): كرة السلة الأمريكية\n",
            "Scraped (12/34): الكرة المصرية\n",
            "Scraped (13/34): الكرة الإفريقية\n",
            "Scraped (14/34): كرة يد\n",
            "Scraped (15/34): سعودي في الجول\n",
            "Scraped (16/34): الدوري الإنجليزي\n",
            "Scraped (17/34): الكرة المصرية\n",
            "Scraped (18/34): الكرة الأوروبية\n",
            "Scraped (19/34): الدوري الإنجليزي\n",
            "Scraped (20/34): الدوري المصري\n",
            "Scraped (21/34): الدوري المصري\n",
            "Scraped (22/34): الكرة المصرية\n",
            "Scraped (23/34): الكرة الإفريقية\n",
            "Scraped (24/34): الدوري الإسباني\n",
            "Scraped (25/34): ميركاتو\n",
            "Scraped (26/34): الكرة الأوروبية\n",
            "Scraped (27/34): الكرة الأوروبية\n",
            "Scraped (28/34): سعودي في الجول\n",
            "Scraped (29/34): الكرة الأوروبية\n",
            "Scraped (30/34): الدوري المصري\n",
            "Scraped (31/34): كرة طائرة\n",
            "Scraped (32/34): الدوري المصري\n",
            "Scraped (33/34): الكرة الأوروبية\n",
            "Scraped (34/34): ميركاتو\n"
          ]
        }
      ]
    },
    {
      "cell_type": "code",
      "source": [
        "# Convert to DataFrame\n",
        "df = pd.DataFrame(articles)"
      ],
      "metadata": {
        "id": "jqR47h9thN1y"
      },
      "execution_count": 21,
      "outputs": []
    },
    {
      "cell_type": "code",
      "source": [
        "df.info()"
      ],
      "metadata": {
        "colab": {
          "base_uri": "https://localhost:8080/"
        },
        "id": "vBk7gYMxpevK",
        "outputId": "4ade878b-0206-463d-febe-e0a9a09c5ba0"
      },
      "execution_count": 32,
      "outputs": [
        {
          "output_type": "stream",
          "name": "stdout",
          "text": [
            "<class 'pandas.core.frame.DataFrame'>\n",
            "RangeIndex: 34 entries, 0 to 33\n",
            "Data columns (total 2 columns):\n",
            " #   Column  Non-Null Count  Dtype \n",
            "---  ------  --------------  ----- \n",
            " 0   title   34 non-null     object\n",
            " 1   body    34 non-null     object\n",
            "dtypes: object(2)\n",
            "memory usage: 676.0+ bytes\n"
          ]
        }
      ]
    },
    {
      "cell_type": "code",
      "source": [
        "df.head()"
      ],
      "metadata": {
        "colab": {
          "base_uri": "https://localhost:8080/",
          "height": 206
        },
        "id": "Ab5iEZDwhNyt",
        "outputId": "5360dad0-7ba2-484d-c95e-03ba55ecf3cc"
      },
      "execution_count": 33,
      "outputs": [
        {
          "output_type": "execute_result",
          "data": {
            "text/plain": [
              "             title                                               body\n",
              "0   سعودي في الجول  وافق 47 ناد سعودي على مشروع توثيق تاريخ الكرة ...\n",
              "1    الدوري المصري  تلقى الأهلي عرضا رسميا من نادي فالنسيا الإسبان...\n",
              "2  الكرة الأوروبية  عبر أوريلين تشواميني لاعب ريال مدريد عن سعادته...\n",
              "3          ميركاتو  يسعى نادي الهلال لتعويض رحيل البرازيلي نيمار ع...\n",
              "4           كرة يد  كشف ماركوس ماركيز مدرب حراس مرمى الزمالك لكرة ..."
            ],
            "text/html": [
              "\n",
              "  <div id=\"df-4ade7893-5e1d-4aee-bedd-0340cc05cc27\" class=\"colab-df-container\">\n",
              "    <div>\n",
              "<style scoped>\n",
              "    .dataframe tbody tr th:only-of-type {\n",
              "        vertical-align: middle;\n",
              "    }\n",
              "\n",
              "    .dataframe tbody tr th {\n",
              "        vertical-align: top;\n",
              "    }\n",
              "\n",
              "    .dataframe thead th {\n",
              "        text-align: right;\n",
              "    }\n",
              "</style>\n",
              "<table border=\"1\" class=\"dataframe\">\n",
              "  <thead>\n",
              "    <tr style=\"text-align: right;\">\n",
              "      <th></th>\n",
              "      <th>title</th>\n",
              "      <th>body</th>\n",
              "    </tr>\n",
              "  </thead>\n",
              "  <tbody>\n",
              "    <tr>\n",
              "      <th>0</th>\n",
              "      <td>سعودي في الجول</td>\n",
              "      <td>وافق 47 ناد سعودي على مشروع توثيق تاريخ الكرة ...</td>\n",
              "    </tr>\n",
              "    <tr>\n",
              "      <th>1</th>\n",
              "      <td>الدوري المصري</td>\n",
              "      <td>تلقى الأهلي عرضا رسميا من نادي فالنسيا الإسبان...</td>\n",
              "    </tr>\n",
              "    <tr>\n",
              "      <th>2</th>\n",
              "      <td>الكرة الأوروبية</td>\n",
              "      <td>عبر أوريلين تشواميني لاعب ريال مدريد عن سعادته...</td>\n",
              "    </tr>\n",
              "    <tr>\n",
              "      <th>3</th>\n",
              "      <td>ميركاتو</td>\n",
              "      <td>يسعى نادي الهلال لتعويض رحيل البرازيلي نيمار ع...</td>\n",
              "    </tr>\n",
              "    <tr>\n",
              "      <th>4</th>\n",
              "      <td>كرة يد</td>\n",
              "      <td>كشف ماركوس ماركيز مدرب حراس مرمى الزمالك لكرة ...</td>\n",
              "    </tr>\n",
              "  </tbody>\n",
              "</table>\n",
              "</div>\n",
              "    <div class=\"colab-df-buttons\">\n",
              "\n",
              "  <div class=\"colab-df-container\">\n",
              "    <button class=\"colab-df-convert\" onclick=\"convertToInteractive('df-4ade7893-5e1d-4aee-bedd-0340cc05cc27')\"\n",
              "            title=\"Convert this dataframe to an interactive table.\"\n",
              "            style=\"display:none;\">\n",
              "\n",
              "  <svg xmlns=\"http://www.w3.org/2000/svg\" height=\"24px\" viewBox=\"0 -960 960 960\">\n",
              "    <path d=\"M120-120v-720h720v720H120Zm60-500h600v-160H180v160Zm220 220h160v-160H400v160Zm0 220h160v-160H400v160ZM180-400h160v-160H180v160Zm440 0h160v-160H620v160ZM180-180h160v-160H180v160Zm440 0h160v-160H620v160Z\"/>\n",
              "  </svg>\n",
              "    </button>\n",
              "\n",
              "  <style>\n",
              "    .colab-df-container {\n",
              "      display:flex;\n",
              "      gap: 12px;\n",
              "    }\n",
              "\n",
              "    .colab-df-convert {\n",
              "      background-color: #E8F0FE;\n",
              "      border: none;\n",
              "      border-radius: 50%;\n",
              "      cursor: pointer;\n",
              "      display: none;\n",
              "      fill: #1967D2;\n",
              "      height: 32px;\n",
              "      padding: 0 0 0 0;\n",
              "      width: 32px;\n",
              "    }\n",
              "\n",
              "    .colab-df-convert:hover {\n",
              "      background-color: #E2EBFA;\n",
              "      box-shadow: 0px 1px 2px rgba(60, 64, 67, 0.3), 0px 1px 3px 1px rgba(60, 64, 67, 0.15);\n",
              "      fill: #174EA6;\n",
              "    }\n",
              "\n",
              "    .colab-df-buttons div {\n",
              "      margin-bottom: 4px;\n",
              "    }\n",
              "\n",
              "    [theme=dark] .colab-df-convert {\n",
              "      background-color: #3B4455;\n",
              "      fill: #D2E3FC;\n",
              "    }\n",
              "\n",
              "    [theme=dark] .colab-df-convert:hover {\n",
              "      background-color: #434B5C;\n",
              "      box-shadow: 0px 1px 3px 1px rgba(0, 0, 0, 0.15);\n",
              "      filter: drop-shadow(0px 1px 2px rgba(0, 0, 0, 0.3));\n",
              "      fill: #FFFFFF;\n",
              "    }\n",
              "  </style>\n",
              "\n",
              "    <script>\n",
              "      const buttonEl =\n",
              "        document.querySelector('#df-4ade7893-5e1d-4aee-bedd-0340cc05cc27 button.colab-df-convert');\n",
              "      buttonEl.style.display =\n",
              "        google.colab.kernel.accessAllowed ? 'block' : 'none';\n",
              "\n",
              "      async function convertToInteractive(key) {\n",
              "        const element = document.querySelector('#df-4ade7893-5e1d-4aee-bedd-0340cc05cc27');\n",
              "        const dataTable =\n",
              "          await google.colab.kernel.invokeFunction('convertToInteractive',\n",
              "                                                    [key], {});\n",
              "        if (!dataTable) return;\n",
              "\n",
              "        const docLinkHtml = 'Like what you see? Visit the ' +\n",
              "          '<a target=\"_blank\" href=https://colab.research.google.com/notebooks/data_table.ipynb>data table notebook</a>'\n",
              "          + ' to learn more about interactive tables.';\n",
              "        element.innerHTML = '';\n",
              "        dataTable['output_type'] = 'display_data';\n",
              "        await google.colab.output.renderOutput(dataTable, element);\n",
              "        const docLink = document.createElement('div');\n",
              "        docLink.innerHTML = docLinkHtml;\n",
              "        element.appendChild(docLink);\n",
              "      }\n",
              "    </script>\n",
              "  </div>\n",
              "\n",
              "\n",
              "<div id=\"df-ebaa6ab1-8994-4e4c-8a8e-85f5a850d366\">\n",
              "  <button class=\"colab-df-quickchart\" onclick=\"quickchart('df-ebaa6ab1-8994-4e4c-8a8e-85f5a850d366')\"\n",
              "            title=\"Suggest charts\"\n",
              "            style=\"display:none;\">\n",
              "\n",
              "<svg xmlns=\"http://www.w3.org/2000/svg\" height=\"24px\"viewBox=\"0 0 24 24\"\n",
              "     width=\"24px\">\n",
              "    <g>\n",
              "        <path d=\"M19 3H5c-1.1 0-2 .9-2 2v14c0 1.1.9 2 2 2h14c1.1 0 2-.9 2-2V5c0-1.1-.9-2-2-2zM9 17H7v-7h2v7zm4 0h-2V7h2v10zm4 0h-2v-4h2v4z\"/>\n",
              "    </g>\n",
              "</svg>\n",
              "  </button>\n",
              "\n",
              "<style>\n",
              "  .colab-df-quickchart {\n",
              "      --bg-color: #E8F0FE;\n",
              "      --fill-color: #1967D2;\n",
              "      --hover-bg-color: #E2EBFA;\n",
              "      --hover-fill-color: #174EA6;\n",
              "      --disabled-fill-color: #AAA;\n",
              "      --disabled-bg-color: #DDD;\n",
              "  }\n",
              "\n",
              "  [theme=dark] .colab-df-quickchart {\n",
              "      --bg-color: #3B4455;\n",
              "      --fill-color: #D2E3FC;\n",
              "      --hover-bg-color: #434B5C;\n",
              "      --hover-fill-color: #FFFFFF;\n",
              "      --disabled-bg-color: #3B4455;\n",
              "      --disabled-fill-color: #666;\n",
              "  }\n",
              "\n",
              "  .colab-df-quickchart {\n",
              "    background-color: var(--bg-color);\n",
              "    border: none;\n",
              "    border-radius: 50%;\n",
              "    cursor: pointer;\n",
              "    display: none;\n",
              "    fill: var(--fill-color);\n",
              "    height: 32px;\n",
              "    padding: 0;\n",
              "    width: 32px;\n",
              "  }\n",
              "\n",
              "  .colab-df-quickchart:hover {\n",
              "    background-color: var(--hover-bg-color);\n",
              "    box-shadow: 0 1px 2px rgba(60, 64, 67, 0.3), 0 1px 3px 1px rgba(60, 64, 67, 0.15);\n",
              "    fill: var(--button-hover-fill-color);\n",
              "  }\n",
              "\n",
              "  .colab-df-quickchart-complete:disabled,\n",
              "  .colab-df-quickchart-complete:disabled:hover {\n",
              "    background-color: var(--disabled-bg-color);\n",
              "    fill: var(--disabled-fill-color);\n",
              "    box-shadow: none;\n",
              "  }\n",
              "\n",
              "  .colab-df-spinner {\n",
              "    border: 2px solid var(--fill-color);\n",
              "    border-color: transparent;\n",
              "    border-bottom-color: var(--fill-color);\n",
              "    animation:\n",
              "      spin 1s steps(1) infinite;\n",
              "  }\n",
              "\n",
              "  @keyframes spin {\n",
              "    0% {\n",
              "      border-color: transparent;\n",
              "      border-bottom-color: var(--fill-color);\n",
              "      border-left-color: var(--fill-color);\n",
              "    }\n",
              "    20% {\n",
              "      border-color: transparent;\n",
              "      border-left-color: var(--fill-color);\n",
              "      border-top-color: var(--fill-color);\n",
              "    }\n",
              "    30% {\n",
              "      border-color: transparent;\n",
              "      border-left-color: var(--fill-color);\n",
              "      border-top-color: var(--fill-color);\n",
              "      border-right-color: var(--fill-color);\n",
              "    }\n",
              "    40% {\n",
              "      border-color: transparent;\n",
              "      border-right-color: var(--fill-color);\n",
              "      border-top-color: var(--fill-color);\n",
              "    }\n",
              "    60% {\n",
              "      border-color: transparent;\n",
              "      border-right-color: var(--fill-color);\n",
              "    }\n",
              "    80% {\n",
              "      border-color: transparent;\n",
              "      border-right-color: var(--fill-color);\n",
              "      border-bottom-color: var(--fill-color);\n",
              "    }\n",
              "    90% {\n",
              "      border-color: transparent;\n",
              "      border-bottom-color: var(--fill-color);\n",
              "    }\n",
              "  }\n",
              "</style>\n",
              "\n",
              "  <script>\n",
              "    async function quickchart(key) {\n",
              "      const quickchartButtonEl =\n",
              "        document.querySelector('#' + key + ' button');\n",
              "      quickchartButtonEl.disabled = true;  // To prevent multiple clicks.\n",
              "      quickchartButtonEl.classList.add('colab-df-spinner');\n",
              "      try {\n",
              "        const charts = await google.colab.kernel.invokeFunction(\n",
              "            'suggestCharts', [key], {});\n",
              "      } catch (error) {\n",
              "        console.error('Error during call to suggestCharts:', error);\n",
              "      }\n",
              "      quickchartButtonEl.classList.remove('colab-df-spinner');\n",
              "      quickchartButtonEl.classList.add('colab-df-quickchart-complete');\n",
              "    }\n",
              "    (() => {\n",
              "      let quickchartButtonEl =\n",
              "        document.querySelector('#df-ebaa6ab1-8994-4e4c-8a8e-85f5a850d366 button');\n",
              "      quickchartButtonEl.style.display =\n",
              "        google.colab.kernel.accessAllowed ? 'block' : 'none';\n",
              "    })();\n",
              "  </script>\n",
              "</div>\n",
              "\n",
              "    </div>\n",
              "  </div>\n"
            ],
            "application/vnd.google.colaboratory.intrinsic+json": {
              "type": "dataframe",
              "variable_name": "df",
              "summary": "{\n  \"name\": \"df\",\n  \"rows\": 34,\n  \"fields\": [\n    {\n      \"column\": \"title\",\n      \"properties\": {\n        \"dtype\": \"category\",\n        \"num_unique_values\": 11,\n        \"samples\": [\n          \"\\u0627\\u0644\\u0643\\u0631\\u0629 \\u0627\\u0644\\u0645\\u0635\\u0631\\u064a\\u0629\",\n          \"\\u0633\\u0639\\u0648\\u062f\\u064a \\u0641\\u064a \\u0627\\u0644\\u062c\\u0648\\u0644\",\n          \"\\u0627\\u0644\\u062f\\u0648\\u0631\\u064a \\u0627\\u0644\\u0625\\u0633\\u0628\\u0627\\u0646\\u064a\"\n        ],\n        \"semantic_type\": \"\",\n        \"description\": \"\"\n      }\n    },\n    {\n      \"column\": \"body\",\n      \"properties\": {\n        \"dtype\": \"string\",\n        \"num_unique_values\": 34,\n        \"samples\": [\n          \"\\u0643\\u0634\\u0641 \\u0645\\u064a\\u0643\\u064a\\u0644 \\u0623\\u0631\\u062a\\u064a\\u062a\\u0627 \\u0645\\u062f\\u0631\\u0628 \\u0623\\u0631\\u0633\\u0646\\u0627\\u0644 \\u0645\\u0633\\u062a\\u062c\\u062f\\u0627\\u062a \\u0625\\u0635\\u0627\\u0628\\u0629 \\u0644\\u0627\\u0639\\u0628\\u0647 \\u0628\\u0648\\u0643\\u0627\\u064a\\u0648 \\u0633\\u0627\\u0643\\u0627.\\n\\u0648\\u0623\\u0635\\u064a\\u0628 \\u0633\\u0627\\u0643\\u0627 \\u0641\\u064a \\u0641\\u0648\\u0632 \\u0623\\u0631\\u0633\\u0646\\u0627\\u0644 \\u0639\\u0644\\u0649 \\u0625\\u0628\\u0633\\u0648\\u064a\\u062a\\u0634 \\u062a\\u0627\\u0648\\u0646 4-0 \\u064a\\u0648\\u0645 \\u0627\\u0644\\u0623\\u062d\\u062f \\u0636\\u0645\\u0646 \\u0627\\u0644\\u062c\\u0648\\u0644\\u0629 33 \\u0645\\u0646 \\u0627\\u0644\\u062f\\u0648\\u0631\\u064a \\u0627\\u0644\\u0625\\u0646\\u062c\\u0644\\u064a\\u0632\\u064a.\\n\\u0648\\u0642\\u0627\\u0644 \\u0623\\u0631\\u062a\\u064a\\u062a\\u0627 \\u0641\\u064a \\u062a\\u0635\\u0631\\u064a\\u062d\\u0627\\u062a \\u0644\\u0644\\u0635\\u062d\\u0641\\u064a\\u064a\\u0646: \\\"\\u0639\\u0644\\u064a\\u0646\\u0627 \\u0623\\u0646 \\u0646\\u0646\\u062a\\u0638\\u0631 \\u0643\\u064a\\u0641 \\u064a\\u0638\\u0647\\u0631 \\u0633\\u0627\\u0643\\u0627 \\u0641\\u064a \\u062a\\u062f\\u0631\\u064a\\u0628\\u0627\\u062a \\u0627\\u0644\\u062b\\u0644\\u0627\\u062b\\u0627\\u0621\\u060c \\u0648\\u0644\\u0643\\u0646 \\u0644\\u0627 \\u064a\\u0648\\u062c\\u062f \\u0634\\u064a\\u0621 \\u062e\\u0637\\u064a\\u0631\\\".\\n\\u0648\\u0623\\u0636\\u0627\\u0641 \\u0627\\u0644\\u0645\\u062f\\u0631\\u0628 \\u0627\\u0644\\u0625\\u0633\\u0628\\u0627\\u0646\\u064a \\\"\\u0625\\u0630\\u0627 \\u0623\\u0631\\u062f\\u0646\\u0627 \\u0627\\u0644\\u0627\\u0633\\u062a\\u0639\\u0627\\u0646\\u0629 \\u0628\\u0633\\u0627\\u0643\\u0627 \\u0623\\u0645\\u0627\\u0645 \\u0643\\u0631\\u064a\\u0633\\u062a\\u0627\\u0644 \\u0628\\u0627\\u0644\\u0627\\u0633 \\u064a\\u0648\\u0645 \\u0627\\u0644\\u0623\\u0631\\u0628\\u0639\\u0627\\u0621 \\u0633\\u062a\\u0643\\u0648\\u0646 \\u0647\\u0646\\u0627\\u0643 \\u0641\\u0631\\u0635\\u0629 \\u062c\\u064a\\u062f\\u0629\\\".\\n\\u0648\\u064a\\u062d\\u0644 \\u0643\\u0631\\u064a\\u0633\\u062a\\u0627\\u0644 \\u0628\\u0627\\u0644\\u0627\\u0633 \\u0636\\u064a\\u0641\\u0627 \\u0639\\u0644\\u0649 \\u0627\\u0644\\u0645\\u062f\\u0641\\u0639\\u062c\\u064a\\u0629 \\u0636\\u0645\\u0646 \\u0627\\u0644\\u062c\\u0648\\u0644\\u0629 34 \\u0645\\u0646 \\u0627\\u0644\\u062f\\u0648\\u0631\\u064a \\u0627\\u0644\\u0625\\u0646\\u062c\\u0644\\u064a\\u0632\\u064a \\u0645\\u0633\\u0627\\u0621 \\u0627\\u0644\\u0623\\u0631\\u0628\\u0639\\u0627\\u0621.\\n\\u0648\\u062a\\u0627\\u0628\\u0639 \\u0623\\u0631\\u062a\\u064a\\u062a\\u0627 \\\"\\u0627\\u0644\\u062f\\u0641\\u0639 \\u0628\\u0627\\u0644\\u0628\\u062f\\u0644\\u0627\\u0621 \\u0623\\u0645\\u0627\\u0645 \\u0643\\u0631\\u064a\\u0633\\u062a\\u0627\\u0644 \\u0628\\u0627\\u0644\\u0627\\u0633\\u061f \\u0644\\u0627 \\u064a\\u0645\\u0643\\u0646\\u0646\\u064a \\u0627\\u0644\\u062a\\u0641\\u0643\\u064a\\u0631 \\u0628\\u0647\\u0630\\u0647 \\u0627\\u0644\\u0637\\u0631\\u064a\\u0642\\u0629\\u060c \\u0641\\u064a \\u062d\\u0627\\u0644\\u0629 \\u062c\\u0627\\u0647\\u0632\\u064a\\u0629 \\u0623\\u064a \\u0644\\u0627\\u0639\\u0628 \\u0641\\u064a\\u062c\\u0628 \\u0639\\u0644\\u064a\\u0647 \\u0627\\u0644\\u0644\\u0639\\u0628\\\".\\n\\u0648\\u062e\\u0631\\u062c \\u0633\\u0627\\u0643\\u0627 \\u0645\\u0635\\u0627\\u0628\\u0627 \\u0641\\u064a \\u0627\\u0644\\u0634\\u0648\\u0637 \\u0627\\u0644\\u062b\\u0627\\u0646\\u064a \\u0645\\u062a\\u0623\\u062b\\u0631\\u0627 \\u0628\\u062a\\u062f\\u062e\\u0644 \\u0639\\u0646\\u064a\\u0641 \\u0645\\u0646 \\u0644\\u064a\\u0641 \\u062f\\u064a\\u0641\\u064a\\u0632 \\u0644\\u0627\\u0639\\u0628 \\u0625\\u0628\\u0633\\u0648\\u064a\\u062a\\u0634 \\u0627\\u0644\\u0630\\u064a \\u062a\\u062d\\u0635\\u0644 \\u0639\\u0644\\u0649 \\u0628\\u0637\\u0627\\u0642\\u0629 \\u062d\\u0645\\u0631\\u0627\\u0621.\\n\\u0648\\u0643\\u0627\\u0646 \\u0628\\u0648\\u0643\\u0627\\u064a\\u0648 \\u0642\\u062f \\u0639\\u0627\\u062f \\u0645\\u0624\\u062e\\u0631\\u0627 \\u0645\\u0646 \\u0625\\u0635\\u0627\\u0628\\u0629 \\u0637\\u0648\\u064a\\u0644\\u0629 \\u0623\\u0628\\u0639\\u062f\\u062a\\u0647 \\u0639\\u0646 \\u0627\\u0644\\u0645\\u0644\\u0627\\u0639\\u0628 \\u0644\\u0623\\u0643\\u062b\\u0631 \\u0645\\u0646 3 \\u0623\\u0634\\u0647\\u0631.\\n\\u0633\\u064a\\u062d\\u0627\\u0648\\u0644 \\u0623\\u0631\\u0633\\u0646\\u0627\\u0644 \\u0627\\u0644\\u062d\\u0641\\u0627\\u0638 \\u0639\\u0644\\u0649 \\u0646\\u062c\\u0645\\u0647 \\u0642\\u0628\\u0644 \\u0623\\u0633\\u0628\\u0648\\u0639 \\u0645\\u0646 \\u0627\\u0644\\u0645\\u0648\\u0627\\u062c\\u0647\\u0629 \\u0627\\u0644\\u0645\\u0631\\u062a\\u0642\\u0628\\u0629 \\u0636\\u062f \\u0628\\u0627\\u0631\\u064a\\u0633 \\u0633\\u0627\\u0646 \\u062c\\u064a\\u0631\\u0645\\u0627\\u0646 \\u0641\\u064a \\u0630\\u0647\\u0627\\u0628 \\u0646\\u0635\\u0641 \\u0646\\u0647\\u0627\\u0626\\u064a \\u062f\\u0648\\u0631\\u064a \\u0623\\u0628\\u0637\\u0627\\u0644 \\u0623\\u0648\\u0631\\u0648\\u0628\\u0627.\",\n          \"\\u0623\\u0648\\u0636\\u062d \\u0645\\u0635\\u062f\\u0631 \\u0645\\u0642\\u0631\\u0628 \\u0645\\u0646 \\u0623\\u062d\\u0645\\u062f \\u0633\\u064a\\u062f \\\"\\u0632\\u064a\\u0632\\u0648\\\" \\u0644\\u0627\\u0639\\u0628 \\u0627\\u0644\\u0632\\u0645\\u0627\\u0644\\u0643 \\u0623\\u0646\\u0647 \\u0644\\u0627 \\u064a\\u0645\\u0627\\u0646\\u0639 \\u0627\\u0633\\u062a\\u0643\\u0645\\u0627\\u0644 \\u0627\\u0644\\u0645\\u0648\\u0633\\u0645 \\u0645\\u0639 \\u0627\\u0644\\u0623\\u0628\\u064a\\u0636.\\n\\u0648\\u0642\\u0627\\u0644 \\u0627\\u0644\\u0645\\u0635\\u062f\\u0631\\u0644\\u0640FilGoal.com:\\\"\\u0632\\u064a\\u0632\\u0648 \\u064a\\u062a\\u062f\\u0631\\u0628 \\u0628\\u0634\\u0643\\u0644 \\u0645\\u0633\\u062a\\u0645\\u0631 \\u0641\\u064a \\u0627\\u0644\\u0648\\u0642\\u062a \\u0627\\u0644\\u062d\\u0627\\u0644\\u064a \\u0645\\u0646\\u062a\\u0638\\u0631\\u0627 \\u062a\\u062d\\u062f\\u064a\\u062f \\u0645\\u0648\\u0642\\u0641\\u0647 \\u0645\\u0639 \\u0627\\u0644\\u0632\\u0645\\u0627\\u0644\\u0643 \\u0648\\u0647\\u0648 \\u0644\\u0627 \\u064a\\u0631\\u0641\\u0636 \\u0627\\u0633\\u062a\\u0643\\u0645\\u0627\\u0644 \\u0627\\u0644\\u0645\\u0648\\u0633\\u0645 \\u0645\\u0639 \\u0627\\u0644\\u0632\\u0645\\u0627\\u0644\\u0643 \\u0648\\u0644\\u0643\\u0646 \\u0628\\u0639\\u062f \\u0627\\u0644\\u062d\\u0635\\u0648\\u0644 \\u0639\\u0644\\u0649 \\u0627\\u0644\\u0636\\u0645\\u0627\\u0646\\u0627\\u062a \\u0627\\u0644\\u0645\\u0637\\u0644\\u0648\\u0628\\u0629\\\".\\n\\u0648\\u0623\\u0636\\u0627\\u0641 \\\"\\u0641\\u064a \\u062d\\u0627\\u0644\\u0629 \\u0639\\u0648\\u062f\\u062a\\u0647 \\u0644\\u0644\\u062a\\u062f\\u0631\\u064a\\u0628\\u0627\\u062a \\u0641\\u0647\\u0648 \\u062c\\u0627\\u0647\\u0632 \\u0644\\u0630\\u0644\\u0643 \\u0648\\u0644\\u0644\\u0645\\u0634\\u0627\\u0631\\u0643\\u0629 \\u0628\\u0634\\u0643\\u0644 \\u0637\\u0628\\u064a\\u0639\\u064a \\u0641\\u064a \\u0627\\u0644\\u0645\\u0628\\u0627\\u0631\\u064a\\u0627\\u062a \\u0645\\u0639 \\u0627\\u0644\\u0632\\u0645\\u0627\\u0644\\u0643\\u060c \\u0648\\u0625\\u0630\\u0627 \\u0644\\u0645 \\u062a\\u062d\\u0644 \\u0627\\u0644\\u0623\\u0632\\u0645\\u0629 \\u0641\\u0633\\u064a\\u0643\\u0648\\u0646 \\u062c\\u0627\\u0647\\u0632\\u0627 \\u0644\\u0644\\u0645\\u0634\\u0627\\u0631\\u0643\\u0629 \\u0645\\u0639 \\u0627\\u0644\\u0641\\u0631\\u064a\\u0642 \\u0627\\u0644\\u062c\\u062f\\u064a\\u062f \\u0627\\u0644\\u0630\\u064a \\u0633\\u064a\\u0646\\u062a\\u0642\\u0644 \\u0644\\u0647 \\u0641\\u064a \\u0627\\u0644\\u0645\\u0648\\u0633\\u0645 \\u0627\\u0644\\u0645\\u0642\\u0628\\u0644\\\".\\n\\u0648\\u0623\\u062a\\u0645 \\u062a\\u0635\\u0631\\u064a\\u062d\\u0627\\u062a\\u0647 \\\"\\u0632\\u064a\\u0632\\u0648 \\u0644\\u0627\\u0639\\u0628 \\u0645\\u062d\\u062a\\u0631\\u0641 \\u0648\\u064a\\u0639\\u0631\\u0641 \\u0643\\u064a\\u0641 \\u064a\\u062d\\u0627\\u0641\\u0638 \\u0639\\u0644\\u0649 \\u062c\\u0627\\u0647\\u0632\\u064a\\u062a\\u0647 \\u0648\\u064a\\u062a\\u062f\\u0631\\u0628 \\u0645\\u0639 \\u0645\\u062f\\u0631\\u0628 \\u062e\\u0627\\u0635 \\u0628\\u0634\\u0643\\u0644 \\u064a\\u0648\\u0645\\u064a\\\".\\n\\u0643\\u0634\\u0641 \\u0645\\u0635\\u062f\\u0631 \\u0645\\u0646 \\u0646\\u0627\\u062f\\u064a \\u0627\\u0644\\u0632\\u0645\\u0627\\u0644\\u0643 \\u0641\\u064a \\u0648\\u0642\\u062a \\u0633\\u0627\\u0628\\u0642\\u0644\\u0640FilGoal.com\\u0639\\u0646 \\u062d\\u0642\\u064a\\u0642\\u0629 \\u0627\\u0644\\u0645\\u0633\\u062a\\u062d\\u0642\\u0627\\u062a \\u0627\\u0644\\u0645\\u0627\\u0644\\u064a\\u0629 \\u0627\\u0644\\u0645\\u062a\\u0623\\u062e\\u0631\\u0629 \\u0644\\u0644\\u0627\\u0639\\u0628 \\u0623\\u062d\\u0645\\u062f \\u0633\\u064a\\u062f \\u0632\\u064a\\u0632\\u0648\\u060c \\u0648\\u0627\\u0644\\u062a\\u064a \\u064a\\u0642\\u062f\\u0631\\u0647\\u0627 \\u0627\\u0644\\u0644\\u0627\\u0639\\u0628 \\u0628\\u0642\\u0631\\u0627\\u0628\\u0629 73 \\u0645\\u0644\\u064a\\u0648\\u0646 \\u062c\\u0646\\u064a\\u0647.\\n\\u0648\\u0642\\u0627\\u0644 \\u0627\\u0644\\u0645\\u0635\\u062f\\u0631 \\u0641\\u064a \\u062a\\u0635\\u0631\\u064a\\u062d\\u0627\\u062a\\u0647 \\u0644\\u0640FilGoal.com: \\\"\\u0642\\u064a\\u0645\\u0629 \\u0639\\u0642\\u062f \\u0627\\u0644\\u0644\\u0627\\u0639\\u0628 \\u062a\\u0628\\u0644\\u063a 55 \\u0645\\u0644\\u064a\\u0648\\u0646 \\u062c\\u0646\\u064a\\u0647 \\u0628\\u0639\\u062f \\u062e\\u0635\\u0645 \\u0627\\u0644\\u0636\\u0631\\u0627\\u0626\\u0628 \\u0648\\u0627\\u0644\\u0631\\u0633\\u0648\\u0645 \\u0627\\u0644\\u0645\\u0633\\u062a\\u062d\\u0642\\u0629 \\u0644\\u0644\\u062f\\u0648\\u0644\\u0629. \\u0625\\u062c\\u0645\\u0627\\u0644\\u064a \\u0642\\u064a\\u0645\\u0629 \\u0627\\u0644\\u0639\\u0642\\u062f \\u0628\\u0645\\u0627 \\u064a\\u0634\\u0645\\u0644 \\u0627\\u0644\\u0636\\u0631\\u0627\\u0626\\u0628 \\u0648\\u0627\\u0644\\u0631\\u0633\\u0648\\u0645 \\u062a\\u0635\\u0644 \\u0625\\u0644\\u0649 84 \\u0645\\u0644\\u064a\\u0648\\u0646 \\u062c\\u0646\\u064a\\u0647 \\u0648\\u0647\\u0648 \\u0645\\u0627 \\u062a\\u0645 \\u062a\\u062f\\u0648\\u064a\\u0646\\u0647 \\u0641\\u064a \\u0627\\u0644\\u0628\\u0646\\u062f \\u0627\\u0644\\u0623\\u0648\\u0644 \\u0643\\u0625\\u062c\\u0645\\u0627\\u0644\\u064a \\u0644\\u0642\\u064a\\u0645\\u0629 \\u0627\\u0644\\u0639\\u0642\\u062f \\u0639\\u0646 \\u0627\\u0644\\u0645\\u0648\\u0627\\u0633\\u0645 \\u0627\\u0644\\u0640 3\\\".\\n\\u0648\\u0623\\u0636\\u0627\\u0641 \\\"\\u0627\\u0644\\u0644\\u0627\\u0639\\u0628 \\u064a\\u062a\\u0642\\u0627\\u0636\\u0649 15 \\u0645\\u0644\\u064a\\u0648\\u0646 \\u062c\\u0646\\u064a\\u0647 \\u0641\\u064a \\u0627\\u0644\\u0645\\u0648\\u0633\\u0645 \\u0627\\u0644\\u0623\\u0648\\u0644\\u060c \\u064820 \\u0641\\u064a \\u0643\\u0644 \\u0645\\u0646 \\u0627\\u0644\\u062b\\u0627\\u0646\\u064a \\u0648\\u0627\\u0644\\u062b\\u0627\\u0644\\u062b\\u060c \\u0648\\u0630\\u0644\\u0643 \\u0648\\u0641\\u0642\\u0627 \\u0644\\u0644\\u0628\\u0646\\u062f \\u0627\\u0644\\u062b\\u0627\\u0645\\u0646 \\u0645\\u0646 \\u0627\\u0644\\u0634\\u0631\\u0648\\u0637 \\u0627\\u0644\\u062e\\u0627\\u0635\\u0629\\u060c \\u0648\\u0627\\u0644\\u0630\\u064a \\u064a\\u0636\\u0645\\u0646 \\u062d\\u0635\\u0648\\u0644 \\u0627\\u0644\\u0644\\u0627\\u0639\\u0628 \\u0639\\u0644\\u0649 \\u0627\\u0644\\u0642\\u064a\\u0645\\u0629 \\u0627\\u0644\\u0635\\u0627\\u0641\\u064a\\u0629 \\u0628\\u0639\\u062f \\u062e\\u0635\\u0645 \\u0627\\u0644\\u0636\\u0631\\u0627\\u0626\\u0628 \\u062d\\u0641\\u0627\\u0638\\u0627 \\u0639\\u0644\\u0649 \\u062d\\u0642\\u0648\\u0642\\u0647 \\u0641\\u064a \\u062d\\u0627\\u0644 \\u062d\\u062f\\u0648\\u062b \\u0623\\u064a \\u0632\\u064a\\u0627\\u062f\\u0627\\u062a \\u0645\\u0633\\u062a\\u0642\\u0628\\u0644\\u064a\\u0629 \\u0641\\u064a \\u0646\\u0633\\u0628 \\u0627\\u0644\\u0636\\u0631\\u0627\\u0626\\u0628\\\".\\n\\u0648\\u0623\\u0648\\u0636\\u062d \\\"\\u0627\\u0644\\u0644\\u0627\\u0639\\u0628 \\u0648\\u0648\\u0643\\u064a\\u0644\\u0647 \\u064a\\u062d\\u0627\\u0648\\u0644\\u0627\\u0646 \\u0625\\u062b\\u0627\\u0631\\u0629 \\u0627\\u0644\\u0628\\u0644\\u0628\\u0644\\u0629\\u060c \\u062d\\u064a\\u062b \\u064a\\u0637\\u0627\\u0644\\u0628 \\u0628\\u0627\\u0639\\u062a\\u0628\\u0627\\u0631 \\u0627\\u0644\\u0628\\u0646\\u062f \\u0627\\u0644\\u062b\\u0627\\u0645\\u0646 \\u0643\\u0645\\u0643\\u0627\\u0641\\u0623\\u0629 \\u0625\\u0636\\u0627\\u0641\\u064a\\u0629\\u060c \\u0645\\u062a\\u063a\\u0627\\u0641\\u0644\\u0627 \\u0623\\u0646 \\u0647\\u0630\\u0627 \\u0627\\u0644\\u0628\\u0646\\u062f \\u0645\\u062c\\u0631\\u062f \\u062a\\u0648\\u0636\\u064a\\u062d \\u0644\\u0642\\u064a\\u0645\\u0629 \\u0627\\u0644\\u0639\\u0642\\u062f \\u0627\\u0644\\u0625\\u062c\\u0645\\u0627\\u0644\\u064a\\u0629 \\u0628\\u0639\\u062f \\u0627\\u0644\\u0636\\u0631\\u0627\\u0626\\u0628\\u060c \\u0648\\u0644\\u064a\\u0633 \\u0628\\u0646\\u062f\\u0627 \\u0645\\u0641\\u0635\\u0644\\u0627 \\u0644\\u0644\\u0645\\u0643\\u0627\\u0641\\u0622\\u062a\\\".\\n\\u0648\\u0623\\u0643\\u0645\\u0644 \\\"\\u0627\\u0644\\u0645\\u0633\\u062a\\u062d\\u0642\\u0627\\u062a \\u0627\\u0644\\u0645\\u062a\\u0623\\u062e\\u0631\\u0629 \\u0644\\u0644\\u0627\\u0639\\u0628 \\u0639\\u0646 \\u0627\\u0644\\u0645\\u0648\\u0633\\u0645 \\u0627\\u0644\\u0623\\u062e\\u064a\\u0631 \\u062a\\u0628\\u0644\\u063a 9 \\u0645\\u0644\\u0627\\u064a\\u064a\\u0646 \\u062c\\u0646\\u064a\\u0647 \\u0642\\u0628\\u0644 \\u0627\\u0633\\u062a\\u0642\\u0637\\u0627\\u0639 \\u0627\\u0644\\u0636\\u0631\\u0627\\u0626\\u0628 \\u0648\\u0646\\u0633\\u0628\\u0629 \\u0627\\u0644\\u0645\\u0634\\u0627\\u0631\\u0643\\u0629 \\u0648\\u0627\\u0644\\u0639\\u0648\\u0627\\u0626\\u062f \\u0627\\u0644\\u0625\\u0639\\u0644\\u0627\\u0646\\u064a\\u0629 \\u0627\\u0644\\u062a\\u064a \\u064a\\u062d\\u0642 \\u0644\\u0644\\u0646\\u0627\\u062f\\u064a \\u0645\\u0646\\u0647\\u0627 \\u0646\\u0633\\u0628\\u0629 20%\\u060c \\u0643\\u0645\\u0627 \\u0633\\u064a\\u062a\\u0645 \\u0627\\u0633\\u062a\\u0642\\u0637\\u0627\\u0639 \\u0645\\u0628\\u0627\\u0644\\u063a \\u0645\\u0627\\u0644\\u064a\\u0629 \\u0646\\u062a\\u064a\\u062c\\u0629 \\u063a\\u064a\\u0627\\u0628\\u0627\\u062a\\u0647 \\u0627\\u0644\\u0645\\u062a\\u0643\\u0631\\u0631\\u0629\\\".\\n\\u0648\\u0627\\u062e\\u062a\\u062a\\u0645 \\\"\\u0647\\u0630\\u0627 \\u0627\\u0644\\u0645\\u0628\\u0644\\u063a \\u0633\\u064a\\u0638\\u0644 \\u0645\\u0639\\u0644\\u0642\\u0627\\u064b \\u0644\\u062d\\u064a\\u0646 \\u0627\\u0644\\u0628\\u062a \\u0641\\u064a\\u0647 \\u0645\\u0646 \\u0642\\u0628\\u0644 \\u0627\\u0644\\u062c\\u0647\\u0627\\u062a \\u0627\\u0644\\u0645\\u062e\\u062a\\u0635\\u0629\\u060c \\u0648\\u0641\\u0642\\u0627 \\u0644\\u0644\\u0648\\u0627\\u0626\\u062d \\u0648\\u0627\\u0644\\u0642\\u0648\\u0627\\u0646\\u064a\\u0646 \\u0627\\u0644\\u0645\\u0646\\u0638\\u0645\\u0629 \\u0644\\u0647\\u0630\\u0627 \\u0627\\u0644\\u0634\\u0623\\u0646\\\".\\n\\u0648\\u0643\\u0627\\u0646 FilGoal.com \\u0642\\u062f \\u0643\\u0634\\u0641\\u062d\\u0642\\u064a\\u0642\\u0629 \\u0633\\u0642\\u0648\\u0637 \\u0645\\u0633\\u062a\\u062d\\u0642\\u0627\\u062a \\u0632\\u064a\\u0632\\u0648 \\u0627\\u0644\\u0645\\u064f\\u0637\\u0627\\u0644\\u0628 \\u0628\\u0647\\u0627 \\u0628\\u0627\\u0644\\u062a\\u0642\\u0627\\u062f\\u0645. \\u0648\\u0643\\u0630\\u0644\\u0643\\u062a\\u0642\\u062f\\u064a\\u0631 \\u0632\\u064a\\u0632\\u0648 \\u0644\\u0644\\u0645\\u0643\\u0627\\u0641\\u0622\\u062a \\u0627\\u0644\\u0625\\u0636\\u0627\\u0641\\u064a\\u0629 \\u062f\\u0627\\u062e\\u0644 \\u0627\\u0644\\u0639\\u0642\\u062f.\\n\\u0648\\u064a\\u0646\\u062a\\u0647\\u064a \\u062a\\u0639\\u0627\\u0642\\u062f \\u0632\\u064a\\u0632\\u0648 \\u0645\\u0639 \\u0627\\u0644\\u0632\\u0645\\u0627\\u0644\\u0643 \\u0628\\u0646\\u0647\\u0627\\u064a\\u0629 \\u0627\\u0644\\u0645\\u0648\\u0633\\u0645 \\u0627\\u0644\\u062c\\u0627\\u0631\\u064a \\u0648\\u064a\\u062d\\u0642 \\u0644\\u0647 \\u0627\\u0644\\u0627\\u0646\\u062a\\u0642\\u0627\\u0644 \\u0644\\u0623\\u064a \\u0641\\u0631\\u064a\\u0642 \\u0628\\u0634\\u0643\\u0644 \\u0645\\u062c\\u0627\\u0646\\u064a \\u0628\\u062f\\u0627\\u064a\\u0629 \\u0645\\u0646 \\u0627\\u0644\\u0645\\u0648\\u0633\\u0645 \\u0627\\u0644\\u0645\\u0642\\u0628\\u0644.\\n\\u0648\\u0642\\u0627\\u0644 \\u0645\\u0635\\u062f\\u0631 \\u0645\\u0642\\u0631\\u0628 \\u0645\\u0646 \\u0627\\u0644\\u0644\\u0627\\u0639\\u0628 \\u0644\\u0640FilGoal.com: \\u0627\\u0644\\u0644\\u0627\\u0639\\u0628 \\u0623\\u0631\\u0633\\u0644 \\u0625\\u0646\\u0630\\u0627\\u0631\\u0627 \\u0644\\u0644\\u0632\\u0645\\u0627\\u0644\\u0643 \\u064a\\u0637\\u0627\\u0644\\u0628 \\u0641\\u064a\\u0647 \\u0628\\u0645\\u0633\\u062a\\u062d\\u0642\\u0627\\u062a\\u0647 \\u0627\\u0644\\u0645\\u062a\\u0623\\u062e\\u0631\\u0629\\\".\\n\\u0648\\u0623\\u0636\\u0627\\u0641 \\\"\\u0632\\u064a\\u0632\\u0648 \\u064a\\u0631\\u063a\\u0628 \\u0641\\u064a \\u0627\\u0644\\u062d\\u0635\\u0648\\u0644 \\u0639\\u0644\\u0649 50 \\u0645\\u0644\\u064a\\u0648\\u0646 \\u062c\\u0646\\u064a\\u0647 \\u0628\\u0646\\u0648\\u062f \\u0625\\u0636\\u0627\\u0641\\u064a\\u0629 \\u0641\\u064a \\u0648\\u062c\\u0648\\u062f \\u0627\\u0644\\u0645\\u062c\\u0644\\u0633 \\u0627\\u0644\\u0633\\u0627\\u0628\\u0642 \\u0644\\u0645 \\u064a\\u062d\\u0635\\u0644 \\u0639\\u0644\\u064a\\u0647\\u0627 \\u0625\\u0636\\u0627\\u0641\\u0629 \\u0625\\u0644\\u0649 \\u0645\\u0633\\u062a\\u062d\\u0642\\u0627\\u062a\\u0647 \\u0627\\u0644\\u0645\\u062a\\u0623\\u062e\\u0631\\u0629 \\u0627\\u0644\\u062a\\u064a \\u062a\\u062a\\u0631\\u0627\\u0648\\u062d \\u0645\\u0646 16 \\u0625\\u0644\\u0649 20 \\u0645\\u0644\\u064a\\u0648\\u0646 \\u062c\\u0646\\u064a\\u0647\\u060c \\u0641\\u064a\\u0645\\u0627 \\u064a\\u0631\\u0649 \\u0627\\u0644\\u0632\\u0645\\u0627\\u0644\\u0643 \\u0623\\u0646 \\u0645\\u0633\\u062a\\u062d\\u0642\\u0627\\u062a \\u0627\\u0644\\u0644\\u0627\\u0639\\u0628 \\u0627\\u0644\\u0645\\u062a\\u0623\\u062e\\u0631\\u0629 \\u062a\\u0628\\u0644\\u063a 9 \\u0645\\u0644\\u0627\\u064a\\u064a\\u0646 \\u062c\\u0646\\u064a\\u0647 \\u0641\\u0642\\u0637\\\".\\n\\u0648\\u0643\\u0627\\u0646 \\u0627\\u0644\\u0632\\u0645\\u0627\\u0644\\u0643 \\u0642\\u062f\\u0631 \\u0623\\u0631\\u0633\\u0644 \\u062e\\u0637\\u0627\\u0628\\u0627 \\u0645\\u0633\\u062c\\u0644\\u0627 \\u0628\\u0639\\u0644\\u0645 \\u0627\\u0644\\u0648\\u0635\\u0648\\u0644 \\u0625\\u0644\\u0649 \\u0623\\u062d\\u0645\\u062f \\u0633\\u064a\\u062f \\u0632\\u064a\\u0632\\u0648 \\u0644\\u0627\\u0639\\u0628 \\u0627\\u0644\\u0641\\u0631\\u064a\\u0642\\u060c \\u0644\\u0625\\u062e\\u0637\\u0627\\u0631\\u0647 \\u0628\\u0627\\u0644\\u062a\\u063a\\u064a\\u0628 \\u0639\\u0646 \\u062d\\u0636\\u0648\\u0631 \\u0627\\u0644\\u0646\\u0627\\u062f\\u064a \\u0644\\u062e\\u0648\\u0636 \\u0627\\u0644\\u062a\\u062f\\u0631\\u064a\\u0628\\u0627\\u062a \\u0648\\u0627\\u0644\\u0645\\u0628\\u0627\\u0631\\u064a\\u0627\\u062a \\u0645\\u0646\\u0630 \\u064a\\u0648\\u0645 10 \\u0623\\u0628\\u0631\\u064a\\u0644 \\u0627\\u0644\\u062c\\u0627\\u0631\\u064a\\u060c \\u0648\\u0625\\u0628\\u0644\\u0627\\u063a\\u0647 \\u0628\\u0627\\u0644\\u0639\\u0642\\u0648\\u0628\\u0627\\u062a \\u0627\\u0644\\u0645\\u0648\\u0642\\u0639\\u0629 \\u0639\\u0644\\u064a\\u0647 \\u0628\\u0633\\u0628\\u0628 \\u0647\\u0630\\u0627 \\u0627\\u0644\\u063a\\u064a\\u0627\\u0628.(\\u0637\\u0627\\u0644\\u0639 \\u0627\\u0644\\u062a\\u0641\\u0627\\u0635\\u064a\\u0644)\\n\\u0648\\u0623\\u0639\\u0644\\u0646 \\u0627\\u0644\\u0632\\u0645\\u0627\\u0644\\u0643 \\u0641\\u064a \\u0628\\u064a\\u0627\\u0646 \\u0641\\u064a \\u0648\\u0642\\u062a \\u0633\\u0627\\u0628\\u0642 \\u0639\\u0646 \\u0648\\u0635\\u0648\\u0644 \\u0627\\u0644\\u0639\\u0644\\u0627\\u0642\\u0629 \\u0628\\u064a\\u0646\\u0647 \\u0648\\u0628\\u064a\\u0646 \\u0627\\u0644\\u0644\\u0627\\u0639\\u0628 \\u0625\\u0644\\u0649 \\u0637\\u0631\\u064a\\u0642 \\u0645\\u0633\\u062f\\u0648\\u062f \\u0648\\u0646\\u0647\\u0627\\u064a\\u0629 \\u0639\\u0644\\u0627\\u0642\\u062a\\u0647 \\u0628\\u0627\\u0644\\u0641\\u0631\\u064a\\u0642 \\u0639\\u0642\\u0628 \\u0646\\u0647\\u0627\\u064a\\u0629 \\u062a\\u0639\\u0627\\u0642\\u062f\\u0647.\\n\\u0643\\u0645\\u0627 \\u0623\\u0639\\u0644\\u0646 \\u0645\\u062c\\u0644\\u0633 \\u0625\\u062f\\u0627\\u0631\\u0629 \\u0646\\u0627\\u062f\\u064a \\u0627\\u0644\\u0632\\u0645\\u0627\\u0644\\u0643 \\u0645\\u0646 \\u0642\\u0628\\u0644 \\u062a\\u062d\\u0648\\u064a\\u0644 \\u0632\\u064a\\u0632\\u0648 \\u0644\\u0644\\u062a\\u062d\\u0642\\u064a\\u0642 \\u0646\\u0638\\u0631\\u0627 \\u0644\\u0644\\u062a\\u0635\\u0631\\u064a\\u062d\\u0627\\u062a \\u0627\\u0644\\u0625\\u0639\\u0644\\u0627\\u0645\\u064a\\u0629 \\u0627\\u0644\\u0645\\u0633\\u064a\\u0626\\u0629 \\u0644\\u0644\\u0646\\u0627\\u062f\\u064a\\u060c \\u0648\\u0641\\u0642\\u0627 \\u0644\\u0628\\u064a\\u0627\\u0646 \\u0627\\u0644\\u0646\\u0627\\u062f\\u064a \\u0627\\u0644\\u0623\\u0628\\u064a\\u0636.\\n\\u0642\\u0628\\u0644\\u0647\\u0627 \\u0643\\u0634\\u0641 \\u0645\\u0635\\u062f\\u0631 \\u0645\\u0646 \\u0627\\u0644\\u0646\\u0627\\u062f\\u064a \\u0627\\u0644\\u0623\\u0628\\u064a\\u0636 \\u0639\\u0646 \\u0627\\u0633\\u062a\\u0628\\u0639\\u0627\\u062f \\u0632\\u064a\\u0632\\u0648 \\u0645\\u0646 \\u0645\\u0628\\u0627\\u0631\\u0627\\u0629 \\u0633\\u062a\\u064a\\u0644\\u064a\\u0646\\u0628\\u0648\\u0634 \\u0627\\u0644\\u062c\\u0646\\u0648\\u0628 \\u0625\\u0641\\u0631\\u064a\\u0642\\u064a \\u0641\\u064a \\u0643\\u0623\\u0633 \\u0627\\u0644\\u0643\\u0648\\u0646\\u0641\\u062f\\u0631\\u0627\\u0644\\u064a\\u0629\\u060c \\u0628\\u0639\\u062f \\u0639\\u0644\\u0645 \\u0645\\u0633\\u0624\\u0648\\u0644\\u064a \\u0627\\u0644\\u0646\\u0627\\u062f\\u064a \\u0628\\u062a\\u0648\\u0642\\u064a\\u0639\\u0647 \\u0644\\u0644\\u0623\\u0647\\u0644\\u064a \\u0645\\u0646\\u0630 12 \\u0645\\u0627\\u0631\\u0633.\",\n          \"\\u064a\\u0642\\u0648\\u062f \\u0627\\u0644\\u0643\\u0648\\u0644\\u0648\\u0645\\u0628\\u064a \\u062c\\u0648\\u0646 \\u062f\\u0648\\u0631\\u0627\\u0646 \\u0647\\u062c\\u0648\\u0645 \\u0627\\u0644\\u0646\\u0635\\u0631 \\u062e\\u0644\\u0627\\u0644 \\u0627\\u0644\\u0645\\u0648\\u0627\\u062c\\u0647\\u0629 \\u0627\\u0644\\u0645\\u0631\\u062a\\u0642\\u0628\\u0629 \\u0636\\u062f \\u0636\\u0645\\u0643.\\n\\u0648\\u064a\\u062d\\u0644 \\u0627\\u0644\\u0646\\u0635\\u0631 \\u0636\\u064a\\u0641\\u0627 \\u0639\\u0644\\u0649 \\u0636\\u0645\\u0643 \\u0636\\u0645\\u0646 \\u0627\\u0644\\u062c\\u0648\\u0644\\u0629 29 \\u0645\\u0646 \\u0645\\u0633\\u0627\\u0628\\u0642\\u0629 \\u0627\\u0644\\u062f\\u0648\\u0631\\u064a \\u0627\\u0644\\u0633\\u0639\\u0648\\u062f\\u064a.\\n\\u0641\\u064a\\u0645\\u0627 \\u064a\\u063a\\u064a\\u0628 \\u0643\\u0631\\u064a\\u0633\\u062a\\u064a\\u0627\\u0646\\u0648 \\u0631\\u0648\\u0646\\u0627\\u0644\\u062f\\u0648 \\u0639\\u0646 \\u0635\\u0641\\u0648\\u0641 \\u0627\\u0644\\u0646\\u0635\\u0631 \\u0623\\u0645\\u0627\\u0645 \\u0636\\u0645\\u0643 \\u062a\\u062c\\u0646\\u0627 \\u0644\\u0625\\u0631\\u0647\\u0627\\u0642 \\u0627\\u0644\\u0646\\u062c\\u0645 \\u0627\\u0644\\u0628\\u0631\\u062a\\u063a\\u0627\\u0644\\u064a\\u060c \\u0625\\u0630 \\u0633\\u064a\\u0644\\u0639\\u0628 \\u0627\\u0644\\u0646\\u0635\\u0631 \\u0636\\u062f \\u064a\\u0648\\u0643\\u0648\\u0647\\u0627\\u0645\\u0627 \\u0645\\u0627\\u0631\\u064a\\u0646\\u0648\\u0633 \\u0627\\u0644\\u064a\\u0627\\u0628\\u0627\\u0646\\u064a \\u0628\\u0639\\u062f 3 \\u0623\\u064a\\u0627\\u0645 \\u0641\\u064a \\u0631\\u0628\\u0639 \\u0646\\u0647\\u0627\\u0626\\u064a \\u0623\\u0637\\u0627\\u0644 \\u0622\\u0633\\u064a\\u0627 \\u0644\\u0644\\u0646\\u062e\\u0628\\u0629.\\n\\u0641\\u064a \\u0627\\u0644\\u0645\\u0642\\u0627\\u0628\\u0644 \\u064a\\u062a\\u0648\\u0627\\u062c\\u062f \\u0627\\u0644\\u0646\\u062c\\u0645 \\u0627\\u0644\\u0645\\u0635\\u0631\\u064a \\u0637\\u0627\\u0631\\u0642 \\u062d\\u0627\\u0645\\u062f \\u0639\\u0644\\u0649 \\u0645\\u0642\\u0627\\u0639\\u062f \\u0628\\u062f\\u0644\\u0627\\u0621 \\u0636\\u0645\\u0643 \\u0641\\u064a \\u0645\\u0648\\u0627\\u062c\\u0647\\u0629 \\u0627\\u0644\\u0646\\u0635\\u0631.\\n\\u062e\\u0637 \\u0627\\u0644\\u062f\\u0641\\u0627\\u0639: \\u0633\\u0644\\u0637\\u0627\\u0646 \\u0627\\u0644\\u063a\\u0646\\u0627\\u0645 - \\u0645\\u062d\\u0645\\u062f \\u0633\\u064a\\u0645\\u0627\\u0643\\u0627\\u0646 - \\u0625\\u064a\\u0645\\u0631\\u064a\\u0643 \\u0644\\u0627\\u0628\\u0648\\u0631\\u062a - \\u0633\\u0627\\u0644\\u0645 \\u0627\\u0644\\u0646\\u062c\\u062f\\u064a\\n\\u062e\\u0637 \\u0627\\u0644\\u0648\\u0633\\u0637: \\u0645\\u0627\\u0631\\u0633\\u064a\\u0644\\u0648 \\u0628\\u0631\\u0648\\u0632\\u0648\\u0641\\u064a\\u062a\\u0634 - \\u0639\\u0628\\u062f \\u0627\\u0644\\u0644\\u0647 \\u0627\\u0644\\u062e\\u064a\\u0628\\u0631\\u064a - \\u0623\\u064a\\u0645\\u0646 \\u064a\\u062d\\u064a\\u0649\\n\\u0648\\u064a\\u062d\\u062a\\u0644 \\u0646\\u0627\\u062f\\u064a \\u0627\\u0644\\u0646\\u0635\\u0631 \\u0627\\u0644\\u0645\\u0631\\u0643\\u0632 \\u0627\\u0644\\u062b\\u0627\\u0644\\u062b \\u0641\\u064a \\u062c\\u062f\\u0648\\u0644 \\u062a\\u0631\\u062a\\u064a\\u0628 \\u0627\\u0644\\u062f\\u0648\\u0631\\u064a \\u0627\\u0644\\u0633\\u0639\\u0648\\u062f\\u064a \\u0628\\u0631\\u0635\\u064a\\u062f 57 \\u0646\\u0642\\u0637\\u0629.\\n\\u0641\\u064a\\u0645\\u0627 \\u064a\\u062a\\u0648\\u0627\\u062c\\u062f \\u0636\\u0645\\u0643 \\u0641\\u064a \\u0627\\u0644\\u0645\\u0631\\u0643\\u0632 \\u0627\\u0644\\u064011 \\u0628\\u062c\\u062f\\u0648\\u0644 \\u0627\\u0644\\u062a\\u0631\\u062a\\u064a\\u0628 \\u0628\\u0631\\u0635\\u064a\\u062f 31 \\u0646\\u0642\\u0637\\u0629.\"\n        ],\n        \"semantic_type\": \"\",\n        \"description\": \"\"\n      }\n    }\n  ]\n}"
            }
          },
          "metadata": {},
          "execution_count": 33
        }
      ]
    },
    {
      "cell_type": "code",
      "source": [
        "# Output the first title and body\n",
        "if articles:\n",
        "    print(f\"Title: {articles[0]['title']}\\n\\nBody:\\n{articles[0]['body']}\")\n",
        "else:\n",
        "    print(\"No articles found.\")"
      ],
      "metadata": {
        "colab": {
          "base_uri": "https://localhost:8080/"
        },
        "id": "fWj5xprIhNvu",
        "outputId": "0e5a6397-e9df-4cea-f449-d8b89d7f312e"
      },
      "execution_count": 40,
      "outputs": [
        {
          "output_type": "stream",
          "name": "stdout",
          "text": [
            "Title: سعودي في الجول\n",
            "\n",
            "Body:\n",
            "وافق 47 ناد سعودي على مشروع توثيق تاريخ الكرة السعودية، فيما أبدى نادي الشباب اعتراضه.\n",
            "وغادر ممثل نادي الشباب الاجتماع الأخير لمشروع توثيق تاريخ الكرة السعودية وذلك قبل إصدار التقرير النهائي بنتائج المشروع.\n",
            "وبحسب صحيفة الشرق الأوسط السعودية، فإن فارس العلياني ممثل نادي الشباب رفع البطاقة الحمراء اعتراضا على المصادقة على التقرير النهائي المتعلق بنتائج المشروع.\n",
            "وقال العلياني عبر وسال إعلام سعودية: \"أحسن الله عزاءنا في تاريخنا الرياضي، ما حدث هو عبث، والمتضرر الوحيد في هذا المشروع هو نادي الشباب\".\n",
            "وأضاف\"نحن كُنا رابع الترتيب في سجل أبطال الدوري ثم أصبحنا خامسا. اتحاد القدم رمى موضوع التوثيق لدى الجمعية العمومية، ومع الأسف أندية ليس لها تاريخ رياضي تصوت وتقرر\".\n",
            "وستقوم الأندية بإعلان عدد بطولاتها وفقا لنتائج التقرير بعد المصادقة على التقرير النهائي لمشروع توثيق تاريخ كرة القدم السعودية، ، بعد ذلك سيتم الإعلان عنها في موقع الاتحاد السعودي لكرة القدم.\n",
            "وأشارت التقارير إلى أن فريق عمل مشروع توثيق تاريخ كرة القدم السعودية بين في تقريره أن عدد البطولات المرصودة 3910 بطولة، وعدد الأبطال 155 نادي.\n",
            "وأضاف أن عدد البطولات المرصودة للفريق الأول 1282 بطولة، وللفئات العمرية 2628 بطولة.\n",
            "وأوضحت التقارير أن عدد الأندية المصادقة على نتائج مشروع توثيق تاريخ كرة القدم السعودية 47 ناد، الشباب هو النادي الوحيد الذي رفض المصادقة.\n"
          ]
        }
      ]
    },
    {
      "cell_type": "markdown",
      "source": [
        "##Saving Data into CSV"
      ],
      "metadata": {
        "id": "aoIByW7P3iOT"
      }
    },
    {
      "cell_type": "code",
      "source": [
        "# Save collected data to CSV file\n",
        "df.to_csv(\"filgoal_articles.csv\", index=False, encoding='utf-8-sig')"
      ],
      "metadata": {
        "id": "e9O9WF0nhNop"
      },
      "execution_count": 29,
      "outputs": []
    },
    {
      "cell_type": "markdown",
      "source": [
        "#Lang-Chain"
      ],
      "metadata": {
        "id": "RVSmd0Y8s9AV"
      }
    },
    {
      "cell_type": "code",
      "source": [
        "import pandas as pd\n",
        "from langchain.schema import Document\n",
        "from langchain.text_splitter import RecursiveCharacterTextSplitter\n",
        "from sentence_transformers import SentenceTransformer\n",
        "from transformers import AutoTokenizer, AutoModel\n",
        "import faiss\n",
        "import torch\n",
        "import numpy as np"
      ],
      "metadata": {
        "id": "_DKNV1qfw__r"
      },
      "execution_count": 73,
      "outputs": []
    },
    {
      "cell_type": "markdown",
      "source": [
        "##Data Preprocessing"
      ],
      "metadata": {
        "id": "Dbgf3Xwz3fcX"
      }
    },
    {
      "cell_type": "code",
      "source": [
        "# Data Loading\n",
        "file_path_csv = '/content/filgoal_articles.csv'\n",
        "data = pd.read_csv(file_path_csv)"
      ],
      "metadata": {
        "id": "K9YFUyZoyXmH"
      },
      "execution_count": 42,
      "outputs": []
    },
    {
      "cell_type": "code",
      "source": [
        "# Combine title and body for better context\n",
        "data['full_text'] = data['title'] + \"\\n\" + data['body']"
      ],
      "metadata": {
        "id": "0Bb2T2LryaPI"
      },
      "execution_count": 43,
      "outputs": []
    },
    {
      "cell_type": "code",
      "source": [
        "# Data Splitting with optimal chunk size and overlap\n",
        "chunk_size = 700  # Optimal chunk size to maintain context (adjust as needed)\n",
        "chunk_overlap = 100  # Overlap between chunks to maintain context"
      ],
      "metadata": {
        "id": "ZCiYgEAZ0Von"
      },
      "execution_count": 78,
      "outputs": []
    },
    {
      "cell_type": "code",
      "source": [
        "# Create Document objects\n",
        "documents = [Document(page_content=text) for text in data['full_text'].tolist()]"
      ],
      "metadata": {
        "id": "owdjvqzL1RcX"
      },
      "execution_count": 79,
      "outputs": []
    },
    {
      "cell_type": "code",
      "source": [
        "# Initialize RecursiveCharacterTextSplitter with the optimal chunk size and overlap\n",
        "splitter = RecursiveCharacterTextSplitter(chunk_size=chunk_size, chunk_overlap=chunk_overlap)"
      ],
      "metadata": {
        "id": "Hvl-JH0p1Rab"
      },
      "execution_count": 80,
      "outputs": []
    },
    {
      "cell_type": "code",
      "source": [
        "# Split the text into chunks\n",
        "split_documents = splitter.split_documents(documents)"
      ],
      "metadata": {
        "id": "9lehaEtW1RYG"
      },
      "execution_count": 81,
      "outputs": []
    },
    {
      "cell_type": "code",
      "source": [
        "# Extract the text to be embedded\n",
        "texts = [doc.page_content for doc in split_documents]"
      ],
      "metadata": {
        "id": "ic1dcyMp1RVq"
      },
      "execution_count": 82,
      "outputs": []
    },
    {
      "cell_type": "code",
      "source": [
        "# Generate embeddings using AraBERT\n",
        "# Load AraBERT model and tokenizer for Arabic embeddings\n",
        "tokenizer = AutoTokenizer.from_pretrained(\"aubmindlab/bert-base-arabertv02\")\n",
        "model = AutoModel.from_pretrained(\"aubmindlab/bert-base-arabertv02\")"
      ],
      "metadata": {
        "id": "pEe82smK1RTQ"
      },
      "execution_count": 83,
      "outputs": []
    },
    {
      "cell_type": "markdown",
      "source": [
        "##araBERT Model"
      ],
      "metadata": {
        "id": "y8c_5j8X3JxY"
      }
    },
    {
      "cell_type": "code",
      "source": [
        "# Function to get embeddings for a list of texts\n",
        "def get_arabert_embeddings(texts):\n",
        "    inputs = tokenizer(texts, padding=True, truncation=True, return_tensors=\"pt\", max_length=512)\n",
        "    with torch.no_grad():\n",
        "        outputs = model(**inputs)\n",
        "    embeddings = outputs.last_hidden_state.mean(dim=1).numpy()  # Taking the mean of token embeddings\n",
        "    return embeddings"
      ],
      "metadata": {
        "id": "LbfQ-7qR1RQm"
      },
      "execution_count": 84,
      "outputs": []
    },
    {
      "cell_type": "code",
      "source": [
        "# Generate embeddings for the text chunks using AraBERT\n",
        "embeddings = get_arabert_embeddings(texts)\n",
        "\n",
        "# Convert embeddings to numpy array for FAISS compatibility\n",
        "embeddings_np = np.array(embeddings).astype('float32')"
      ],
      "metadata": {
        "id": "Hvx-yeML1b1d"
      },
      "execution_count": 85,
      "outputs": []
    },
    {
      "cell_type": "code",
      "source": [
        "# Create FAISS Index\n",
        "index = faiss.IndexFlatL2(embeddings_np.shape[1])  # L2 distance for similarity search\n",
        "index.add(embeddings_np)  # Add embeddings to FAISS index"
      ],
      "metadata": {
        "id": "Z6M3ywTu1by5"
      },
      "execution_count": 86,
      "outputs": []
    },
    {
      "cell_type": "markdown",
      "source": [
        "##Question Answering"
      ],
      "metadata": {
        "id": "DbLaoPZW3QoZ"
      }
    },
    {
      "cell_type": "code",
      "source": [
        "# Question Answering using FAISS Index\n",
        "\n",
        "def answer_query(query, model, tokenizer, index, top_k=2):\n",
        "    # Convert the query into an embedding using AraBERT\n",
        "    query_inputs = tokenizer([query], padding=True, truncation=True, return_tensors=\"pt\", max_length=512)\n",
        "    with torch.no_grad():\n",
        "        query_outputs = model(**query_inputs)\n",
        "    query_embedding = query_outputs.last_hidden_state.mean(dim=1).numpy().astype('float32')\n",
        "\n",
        "    # Perform similarity search (get the top_k most similar chunks)\n",
        "    D, I = index.search(query_embedding, top_k)  # D is distances, I is indices of nearest neighbors\n",
        "\n",
        "    # Return the most similar text chunks as the answer\n",
        "    answers = [texts[i] for i in I[0]]\n",
        "    return answers"
      ],
      "metadata": {
        "id": "p6gM_R7J1bwi"
      },
      "execution_count": 87,
      "outputs": []
    },
    {
      "cell_type": "markdown",
      "source": [
        "##Testing Our Model"
      ],
      "metadata": {
        "id": "Xe2ParPX3V2T"
      }
    },
    {
      "cell_type": "code",
      "source": [
        "# Example Test\n",
        "query_arabic = \"ما هي أحدث أخبار الانتقالات في كرة القدم؟\"  # Example Arabic query\n",
        "answers_arabic = answer_query(query_arabic, model, tokenizer, index)\n",
        "\n",
        "# Answers in Arabic\n",
        "for answer in answers_arabic:\n",
        "    print(answer)\n",
        "    print(\"=\" * 100)"
      ],
      "metadata": {
        "colab": {
          "base_uri": "https://localhost:8080/"
        },
        "id": "oA6vVF7q0gDk",
        "outputId": "904d3222-f981-4bb6-8545-9db1f152c1a5"
      },
      "execution_count": 88,
      "outputs": [
        {
          "output_type": "stream",
          "name": "stdout",
          "text": [
            "ميركاتو\n",
            "ذكرت شبكة سكاي سبورت ألمانيا أن نادي باير ليفركوزن يتواصل مع مانشستر سيتي بشكل مباشر من أجل ضم الجناح جيمس ماكاتي.\n",
            "وأوضح التقرير أن الناديان يدرسان كل الحلول الممكنة لإتمام الصفقة.\n",
            "وأضاف التقرير أن هناك أندية أخرى من الدوري الإنجليزي والدوري الإيطالي أبدت اهتمامها بضم اللاعب.\n",
            "لم يتوصل ماكاتي إلى اتفاق شفهي مع أي نادٍ حتى الآن، حسب التقرير.\n",
            "ولفت التقرير إلى أن بيب جوارديولا مدرب سيتي يرغب في الاحتفاظ بماكاتي، لكن اللاعب يريد الرحيل لرغبته في لعب دقائق أكثر.\n",
            "الجناح الشاب يشارك في بعض المباريات مع بيب جوارديولا هذا الموسم، فقد لعب 24 مباراة وسجل 7 أهداف.\n",
            "وحاول ليفركوزن ضم اللاعب في يناير الماضي على سبيل الإعارة مع خيار الشراء، لكن الصفقة لم تتم.\n",
            "====================================================================================================\n",
            "ولكن ماذا لو كنت تملك لجنة التخطيط في وقت مبكر أو ما يساويها في عملها كمدير رياضي أو لجنة كرة، مهما كان المسمى؟ بالتأكيد بيع لاعب بهذا المبلغ الخيالي واستقطاب محترفين في قيمة أشرف بنشرقي وفرجاني ساسي وليس كونراد ميشالاك البولندي الكارثي.\n",
            "بالتالي عندما كتبت أن المسألة ليس أموالا فقط، فأقصدها بالضبط، لأن لا توجد قاعدة بمن يصرف أكثر يفوز.\n",
            "هذه الجملة ستنقلنا لناد بظروف مشابهة وعليه ديون بأكثر من 400 مليون يورو في وقت من الأوقات، ودائما ما يتبع رئيس هذا النادي هذه المقولة ويقولها كثيرا.\n",
            "إذا قلت لك إن جيوزيبي ماروتا رحل من يوفنتوس بسبب رفضه التعاقد مع كريستيانو رونالدو ستقول ما هذا الجنون! رحل بسبب رفضه صفقة ضم رونالدو في أفضل أيامه من ريال مدريد إلى يوفنتوس؟ نعم رفضها وبسببها رحل.\n",
            "====================================================================================================\n"
          ]
        }
      ]
    },
    {
      "cell_type": "code",
      "source": [
        "# Example Test\n",
        "query_arabic = \"ما هي آخر أخبار الدوري المصري؟\"  # Example Arabic query\n",
        "answers_arabic = answer_query(query_arabic, model, tokenizer, index)\n",
        "\n",
        "# Answers in Arabic\n",
        "for answer in answers_arabic:\n",
        "    print(answer)\n",
        "    print(\"=\" * 100)"
      ],
      "metadata": {
        "colab": {
          "base_uri": "https://localhost:8080/"
        },
        "id": "ii8gq3GX054s",
        "outputId": "59b3e158-340c-49f5-ed3e-e221cbb174f0"
      },
      "execution_count": 90,
      "outputs": [
        {
          "output_type": "stream",
          "name": "stdout",
          "text": [
            "الدوري المصري\n",
            "أوضح مصدر مقرب من أحمد سيد \"زيزو\" لاعب الزمالك أنه لا يمانع استكمال الموسم مع الأبيض.\n",
            "وقال المصدرلـFilGoal.com:\"زيزو يتدرب بشكل مستمر في الوقت الحالي منتظرا تحديد موقفه مع الزمالك وهو لا يرفض استكمال الموسم مع الزمالك ولكن بعد الحصول على الضمانات المطلوبة\".\n",
            "وأضاف \"في حالة عودته للتدريبات فهو جاهز لذلك وللمشاركة بشكل طبيعي في المباريات مع الزمالك، وإذا لم تحل الأزمة فسيكون جاهزا للمشاركة مع الفريق الجديد الذي سينتقل له في الموسم المقبل\".\n",
            "وأتم تصريحاته \"زيزو لاعب محترف ويعرف كيف يحافظ على جاهزيته ويتدرب مع مدرب خاص بشكل يومي\".\n",
            "كشف مصدر من نادي الزمالك في وقت سابقلـFilGoal.comعن حقيقة المستحقات المالية المتأخرة للاعب أحمد سيد زيزو، والتي يقدرها اللاعب بقرابة 73 مليون جنيه.\n",
            "====================================================================================================\n",
            "ولكن في عهد الحاج -بصفته الوظيفية لحين أداء الفريضة- طه عزت، صار أمرا طبيعيا أن تعلن رابطة الأندية يوم 8 مارس، أن الأهلي والزمالك سيلتقيان يوم 13 مارس، في وجود لائحة تلزم بالإبلاغ بطلب الحكام الأجانب قبلها بـ 14 يوما، على فرض استحالة الإعلان عن إقامة مباراة \"في بطولة دوري\" قبل إقامتها بمدة أقل من هذه.\n",
            "بطبيعة الحال، نعرف جميعا أن هذا العبث لا يمكن أن يتحمله طه عزت منفردا، لكن ضع نفسك مكاني.. إنه وبوضوح شديد للغاية، الهدف الأسهل في كل هذه القائمة.. من في القائمة؟ سؤال جميل سأفترض أنك طرحته وأشكرك عليه.. بسم الله.\n",
            "رغم أن البداية من نقطة البداية تبدو أسهل دائما، سنبدأ هذه المرة من النقطة التي نقف فيها على وجه التحديد: شكوى النادي الأهلي أمام اللجنة الأولمبية.. من هنا يمكننا العودة إلى البداية.\n",
            "====================================================================================================\n"
          ]
        }
      ]
    },
    {
      "cell_type": "code",
      "source": [
        "# Example Test\n",
        "query_arabic = \"ما هي أخبار الدوري السعودي؟\"  # Example Arabic query\n",
        "answers_arabic = answer_query(query_arabic, model, tokenizer, index)\n",
        "\n",
        "# Answers in Arabic\n",
        "for answer in answers_arabic:\n",
        "    print(answer)\n",
        "    print(\"=\" * 100)"
      ],
      "metadata": {
        "colab": {
          "base_uri": "https://localhost:8080/"
        },
        "id": "H9CYIrt-2Bre",
        "outputId": "5ae18a61-163e-4a0b-8fc0-ac682f6a556e"
      },
      "execution_count": 93,
      "outputs": [
        {
          "output_type": "stream",
          "name": "stdout",
          "text": [
            "سعودي في الجول\n",
            "وافق 47 ناد سعودي على مشروع توثيق تاريخ الكرة السعودية، فيما أبدى نادي الشباب اعتراضه.\n",
            "وغادر ممثل نادي الشباب الاجتماع الأخير لمشروع توثيق تاريخ الكرة السعودية وذلك قبل إصدار التقرير النهائي بنتائج المشروع.\n",
            "وبحسب صحيفة الشرق الأوسط السعودية، فإن فارس العلياني ممثل نادي الشباب رفع البطاقة الحمراء اعتراضا على المصادقة على التقرير النهائي المتعلق بنتائج المشروع.\n",
            "وقال العلياني عبر وسال إعلام سعودية: \"أحسن الله عزاءنا في تاريخنا الرياضي، ما حدث هو عبث، والمتضرر الوحيد في هذا المشروع هو نادي الشباب\".\n",
            "وأضاف\"نحن كُنا رابع الترتيب في سجل أبطال الدوري ثم أصبحنا خامسا. اتحاد القدم رمى موضوع التوثيق لدى الجمعية العمومية، ومع الأسف أندية ليس لها تاريخ رياضي تصوت وتقرر\".\n",
            "====================================================================================================\n",
            "ولكن في عهد الحاج -بصفته الوظيفية لحين أداء الفريضة- طه عزت، صار أمرا طبيعيا أن تعلن رابطة الأندية يوم 8 مارس، أن الأهلي والزمالك سيلتقيان يوم 13 مارس، في وجود لائحة تلزم بالإبلاغ بطلب الحكام الأجانب قبلها بـ 14 يوما، على فرض استحالة الإعلان عن إقامة مباراة \"في بطولة دوري\" قبل إقامتها بمدة أقل من هذه.\n",
            "بطبيعة الحال، نعرف جميعا أن هذا العبث لا يمكن أن يتحمله طه عزت منفردا، لكن ضع نفسك مكاني.. إنه وبوضوح شديد للغاية، الهدف الأسهل في كل هذه القائمة.. من في القائمة؟ سؤال جميل سأفترض أنك طرحته وأشكرك عليه.. بسم الله.\n",
            "رغم أن البداية من نقطة البداية تبدو أسهل دائما، سنبدأ هذه المرة من النقطة التي نقف فيها على وجه التحديد: شكوى النادي الأهلي أمام اللجنة الأولمبية.. من هنا يمكننا العودة إلى البداية.\n",
            "====================================================================================================\n"
          ]
        }
      ]
    },
    {
      "cell_type": "code",
      "source": [],
      "metadata": {
        "id": "ZG9qbuww2ehR"
      },
      "execution_count": null,
      "outputs": []
    }
  ]
}